{
  "nbformat": 4,
  "nbformat_minor": 0,
  "metadata": {
    "colab": {
      "provenance": [],
      "authorship_tag": "ABX9TyPdVs6qFZZm0+Zz29SgdfFQ",
      "include_colab_link": true
    },
    "kernelspec": {
      "name": "python3",
      "display_name": "Python 3"
    },
    "language_info": {
      "name": "python"
    }
  },
  "cells": [
    {
      "cell_type": "markdown",
      "metadata": {
        "id": "view-in-github",
        "colab_type": "text"
      },
      "source": [
        "<a href=\"https://colab.research.google.com/github/Alenushka2013/Khpi_master_studing/blob/main/IDT_Lab_2_Matrices.ipynb\" target=\"_parent\"><img src=\"https://colab.research.google.com/assets/colab-badge.svg\" alt=\"Open In Colab\"/></a>"
      ]
    },
    {
      "cell_type": "code",
      "source": [
        "import numpy as np\n",
        "\n",
        "\n",
        "def get_matrix(n: int, m: int) -> np.ndarray:\n",
        "    \"\"\"Create random matrix n * m.\n",
        "\n",
        "    Args:\n",
        "        n (int): number of rows.\n",
        "        m (int): number of columns.\n",
        "\n",
        "    Returns:\n",
        "        np.ndarray: matrix n*m.\n",
        "    \"\"\"\n",
        "    return np.random.rand(n, m)\n"
      ],
      "metadata": {
        "id": "wGyMQmfLe9hD"
      },
      "execution_count": 112,
      "outputs": []
    },
    {
      "cell_type": "code",
      "source": [
        "get_matrix(3, 4)"
      ],
      "metadata": {
        "colab": {
          "base_uri": "https://localhost:8080/"
        },
        "id": "PcrsbW2VqvEX",
        "outputId": "6ea534d1-7a55-4861-cca4-f3020572ecbb"
      },
      "execution_count": 113,
      "outputs": [
        {
          "output_type": "execute_result",
          "data": {
            "text/plain": [
              "array([[0.31052655, 0.83635425, 0.05015636, 0.87854626],\n",
              "       [0.01063762, 0.08735588, 0.33936788, 0.22504146],\n",
              "       [0.75506906, 0.49790008, 0.83804092, 0.57962588]])"
            ]
          },
          "metadata": {},
          "execution_count": 113
        }
      ]
    },
    {
      "cell_type": "code",
      "source": [
        "def add(x: np.ndarray, y: np.ndarray) -> np.ndarray:\n",
        "    \"\"\"Matrix addition.\n",
        "\n",
        "    Args:\n",
        "        x (np.ndarray): 1st matrix.\n",
        "        y (np.ndarray): 2nd matrix.\n",
        "\n",
        "    Returns:\n",
        "        np.ndarray: matrix sum.\n",
        "    \"\"\"\n",
        "    return x + y"
      ],
      "metadata": {
        "id": "G2rFZd5WlDHi"
      },
      "execution_count": 114,
      "outputs": []
    },
    {
      "cell_type": "code",
      "source": [
        "a = np.array([[1, 2, 3], [5, 6, 7], [1, 1, 1]])\n",
        "b = np.array([[4, 3, 2], [7, 6, 5], [3, 2, 1]])\n",
        "add(a, b)"
      ],
      "metadata": {
        "colab": {
          "base_uri": "https://localhost:8080/"
        },
        "id": "GmY5V_IRrDft",
        "outputId": "e5c3d58e-31a5-4141-a7b7-8c088d8d228d"
      },
      "execution_count": 123,
      "outputs": [
        {
          "output_type": "execute_result",
          "data": {
            "text/plain": [
              "array([[ 5,  5,  5],\n",
              "       [12, 12, 12],\n",
              "       [ 4,  3,  2]])"
            ]
          },
          "metadata": {},
          "execution_count": 123
        }
      ]
    },
    {
      "cell_type": "code",
      "source": [
        "def scalar_multiplication(x: np.ndarray, a: float) -> np.ndarray:\n",
        "    \"\"\"Matrix multiplication by scalar.\n",
        "\n",
        "    Args:\n",
        "        x (np.ndarray): matrix.\n",
        "        a (float): scalar.\n",
        "\n",
        "    Returns:\n",
        "        np.ndarray: multiplied matrix.\n",
        "    \"\"\"\n",
        "    return a * x"
      ],
      "metadata": {
        "id": "wjvPeLlClFCa"
      },
      "execution_count": 119,
      "outputs": []
    },
    {
      "cell_type": "code",
      "source": [
        "scalar_multiplication(a, 2.5)"
      ],
      "metadata": {
        "colab": {
          "base_uri": "https://localhost:8080/"
        },
        "id": "egMeD_kUrc5k",
        "outputId": "a82cd1ff-2762-498b-8307-ea744595193e"
      },
      "execution_count": 120,
      "outputs": [
        {
          "output_type": "execute_result",
          "data": {
            "text/plain": [
              "array([[ 2.5,  5. ,  7.5],\n",
              "       [12.5, 15. , 17.5]])"
            ]
          },
          "metadata": {},
          "execution_count": 120
        }
      ]
    },
    {
      "cell_type": "code",
      "source": [
        "def dot_product(x: np.ndarray, y: np.ndarray) -> np.ndarray:\n",
        "    \"\"\"Matrices dot product.\n",
        "\n",
        "    Args:\n",
        "        x (np.ndarray): 1st matrix.\n",
        "        y (np.ndarray): 2nd matrix or vector.\n",
        "\n",
        "    Returns:\n",
        "        np.ndarray: dot product.\n",
        "    \"\"\"\n",
        "    return x @ y"
      ],
      "metadata": {
        "id": "CpERAcNglGLa"
      },
      "execution_count": 125,
      "outputs": []
    },
    {
      "cell_type": "code",
      "source": [
        "dot_product(a, b)"
      ],
      "metadata": {
        "colab": {
          "base_uri": "https://localhost:8080/"
        },
        "id": "IiDPgfPqrn5D",
        "outputId": "a3da83ae-a7aa-4ae1-b883-50956c240be4"
      },
      "execution_count": 126,
      "outputs": [
        {
          "output_type": "execute_result",
          "data": {
            "text/plain": [
              "array([[27, 21, 15],\n",
              "       [83, 65, 47],\n",
              "       [14, 11,  8]])"
            ]
          },
          "metadata": {},
          "execution_count": 126
        }
      ]
    },
    {
      "cell_type": "code",
      "source": [
        "def identity_matrix(dim: int) -> np.ndarray:\n",
        "    \"\"\"Create identity matrix with dimension `dim`.\n",
        "\n",
        "    Args:\n",
        "        dim (int): matrix dimension.\n",
        "\n",
        "    Returns:\n",
        "        np.ndarray: identity matrix.\n",
        "    \"\"\"\n",
        "    return np.eye(dim)"
      ],
      "metadata": {
        "id": "RtOLegMQlHQy"
      },
      "execution_count": 127,
      "outputs": []
    },
    {
      "cell_type": "code",
      "source": [
        "def matrix_inverse(x: np.ndarray) -> np.ndarray:\n",
        "    \"\"\"Compute inverse matrix.\n",
        "\n",
        "    Args:\n",
        "        x (np.ndarray): matrix.\n",
        "\n",
        "    Returns:\n",
        "        np.ndarray: inverse matrix.\n",
        "    \"\"\"\n",
        "    return np.linalg.inv(x)"
      ],
      "metadata": {
        "id": "ucW2aQUOlISZ"
      },
      "execution_count": 137,
      "outputs": []
    },
    {
      "cell_type": "code",
      "source": [
        "def matrix_transpose(x: np.ndarray) -> np.ndarray:\n",
        "    \"\"\"Compute transpose matrix.\n",
        "\n",
        "    Args:\n",
        "        x (np.ndarray): matrix.\n",
        "\n",
        "    Returns:\n",
        "        np.ndarray: transosed matrix.\n",
        "    \"\"\"\n",
        "    return x.T"
      ],
      "metadata": {
        "id": "AyHE44U5lJKS"
      },
      "execution_count": 128,
      "outputs": []
    },
    {
      "cell_type": "code",
      "source": [
        "matrix_transpose(np.array([[1, 2, 3], [3, 2, 1]]))"
      ],
      "metadata": {
        "colab": {
          "base_uri": "https://localhost:8080/"
        },
        "id": "kJVrBq-LsMKF",
        "outputId": "f97de869-fb3e-4e73-d337-4e303c5ddd70"
      },
      "execution_count": 130,
      "outputs": [
        {
          "output_type": "execute_result",
          "data": {
            "text/plain": [
              "array([[1, 3],\n",
              "       [2, 2],\n",
              "       [3, 1]])"
            ]
          },
          "metadata": {},
          "execution_count": 130
        }
      ]
    },
    {
      "cell_type": "code",
      "source": [
        "def hadamard_product(x: np.ndarray, y: np.ndarray) -> np.ndarray:\n",
        "    \"\"\"Compute hadamard product.\n",
        "\n",
        "    Args:\n",
        "        x (np.ndarray): 1th matrix.\n",
        "        y (np.ndarray): 2nd matrix.\n",
        "\n",
        "    Returns:\n",
        "        np.ndarray: hadamard produc\n",
        "    \"\"\"\n",
        "    return x * y"
      ],
      "metadata": {
        "id": "szHKZcyPlKB6"
      },
      "execution_count": 131,
      "outputs": []
    },
    {
      "cell_type": "code",
      "source": [
        "hadamard_product(a, b)"
      ],
      "metadata": {
        "colab": {
          "base_uri": "https://localhost:8080/"
        },
        "id": "rzhy1gxTsTPA",
        "outputId": "fc8c927b-3eeb-489e-f5a6-231215bd4699"
      },
      "execution_count": 132,
      "outputs": [
        {
          "output_type": "execute_result",
          "data": {
            "text/plain": [
              "array([[ 4,  6,  6],\n",
              "       [35, 36, 35],\n",
              "       [ 3,  2,  1]])"
            ]
          },
          "metadata": {},
          "execution_count": 132
        }
      ]
    },
    {
      "cell_type": "code",
      "source": [
        "def basis(x: np.ndarray) -> tuple[int]:\n",
        "    \"\"\"Compute matrix basis.\n",
        "\n",
        "    Args:\n",
        "        x (np.ndarray): matrix.\n",
        "\n",
        "    Returns:\n",
        "        tuple[int]: indexes of basis columns.\n",
        "    \"\"\"\n",
        "    Q, R = np.linalg.qr(x)\n",
        "\n",
        "    return tuple(i for i, r in enumerate(np.abs(np.diag(R)) > 1e-10))"
      ],
      "metadata": {
        "id": "cW5_P-vylK5a"
      },
      "execution_count": 133,
      "outputs": []
    },
    {
      "cell_type": "code",
      "source": [
        "basis(np.array([[1, 2, 3], [4, 5, 6], [5, 7, 9], [3, 3, 3]]).T)"
      ],
      "metadata": {
        "colab": {
          "base_uri": "https://localhost:8080/"
        },
        "id": "vgyK5CqN8DzX",
        "outputId": "7f998340-ecf6-45f7-8617-7575bf2adf76"
      },
      "execution_count": 155,
      "outputs": [
        {
          "output_type": "execute_result",
          "data": {
            "text/plain": [
              "(0, 1)"
            ]
          },
          "metadata": {},
          "execution_count": 155
        }
      ]
    },
    {
      "cell_type": "code",
      "source": [
        "# def norm(x: np.ndarray, order: int | float | str) -> float:\n",
        "#     \"\"\"Matrix norm: Frobenius, Spectral or Max.\n",
        "\n",
        "#     Args:\n",
        "#         x (np.ndarray): vector\n",
        "#         order (int | float): norm's order: 'fro', 2 or inf.\n",
        "\n",
        "#     Returns:\n",
        "#         float: vector norm\n",
        "#     \"\"\"\n",
        "#     if order == 'fro':\n",
        "#       return np.sqrt(np.sum(x**2))\n",
        "#     elif order == 2:\n",
        "#         return np.linalg.svd(x, compute_uv=False)[0]\n",
        "#     elif order == np.inf:\n",
        "#         return np.max(np.sum(np.abs(x), axis=1))\n",
        "#     else:\n",
        "#         return np.sum(np.abs(x)**order)**(1/order)"
      ],
      "metadata": {
        "id": "ZCgcTf0blL3y"
      },
      "execution_count": 135,
      "outputs": []
    },
    {
      "cell_type": "code",
      "source": [
        "def norm(x: np.ndarray, order: int | float | str) -> float:\n",
        "    \"\"\"Matrix or vector norm.\"\"\"\n",
        "    if order == 'fro':\n",
        "        return np.linalg.norm(x, 'fro') #np.sqrt(np.sum(x**2))\n",
        "    elif order == 2:\n",
        "        # Спектральна норма: sqrt(max eigenvalue of A^T A)\n",
        "        eigvals = np.linalg.eigvals(x.T @ x)\n",
        "        return np.sqrt(np.max(np.real(eigvals)))  # беремо дійсну частину на всяк випадок\n",
        "    elif order == np.inf:\n",
        "        return np.linalg.norm(x, np.inf) #np.max(np.sum(np.abs(x), axis=1))\n",
        "    else:\n",
        "        # Узагальнений p-норма для векторів\n",
        "        return np.sum(np.abs(x)**order)**(1/order)"
      ],
      "metadata": {
        "id": "IzIupptCuQFr"
      },
      "execution_count": null,
      "outputs": []
    },
    {
      "cell_type": "code",
      "source": [
        "def norm(x: np.ndarray, order: int | float | str) -> float:\n",
        "    \"\"\"Matrix or vector norm.\"\"\"\n",
        "\n",
        "    return float(np.linalg.norm(x, order))"
      ],
      "metadata": {
        "id": "_nabivun-0QX"
      },
      "execution_count": 165,
      "outputs": []
    },
    {
      "cell_type": "code",
      "source": [
        "A = np.array([[1, 2, 3],\n",
        "              [4, 5, 6],\n",
        "              [7, 8, 9]])\n",
        "norm(A, 2)"
      ],
      "metadata": {
        "colab": {
          "base_uri": "https://localhost:8080/"
        },
        "id": "28ZtdgCS_FMi",
        "outputId": "6a8ebba6-d571-4050-e463-5c7cccfecf06"
      },
      "execution_count": 164,
      "outputs": [
        {
          "output_type": "execute_result",
          "data": {
            "text/plain": [
              "np.float64(16.84810335261421)"
            ]
          },
          "metadata": {},
          "execution_count": 164
        }
      ]
    },
    {
      "cell_type": "code",
      "source": [
        "norm(A, 'fro')"
      ],
      "metadata": {
        "colab": {
          "base_uri": "https://localhost:8080/"
        },
        "id": "o4UorfV5_T3Y",
        "outputId": "bb8f24d3-6b96-4905-d14f-f3684cc9abb9"
      },
      "execution_count": 166,
      "outputs": [
        {
          "output_type": "execute_result",
          "data": {
            "text/plain": [
              "16.881943016134134"
            ]
          },
          "metadata": {},
          "execution_count": 166
        }
      ]
    },
    {
      "cell_type": "code",
      "source": [
        "norm(A, np.inf)"
      ],
      "metadata": {
        "colab": {
          "base_uri": "https://localhost:8080/"
        },
        "id": "L4wEq6Cv_c_z",
        "outputId": "31ccbb69-10eb-4628-df98-8bb24d1dbb77"
      },
      "execution_count": 167,
      "outputs": [
        {
          "output_type": "execute_result",
          "data": {
            "text/plain": [
              "24.0"
            ]
          },
          "metadata": {},
          "execution_count": 167
        }
      ]
    },
    {
      "cell_type": "code",
      "source": [
        "import numpy as np\n",
        "\n",
        "\n",
        "def get_matrix(n: int, m: int) -> np.ndarray:\n",
        "    \"\"\"Create random matrix n * m.\n",
        "\n",
        "    Args:\n",
        "        n (int): number of rows.\n",
        "        m (int): number of columns.\n",
        "\n",
        "    Returns:\n",
        "        np.ndarray: matrix n*m.\n",
        "    \"\"\"\n",
        "    return np.random.rand(n, m)\n",
        "\n",
        "\n",
        "def add(x: np.ndarray, y: np.ndarray) -> np.ndarray:\n",
        "    \"\"\"Matrix addition.\n",
        "\n",
        "    Args:\n",
        "        x (np.ndarray): 1st matrix.\n",
        "        y (np.ndarray): 2nd matrix.\n",
        "\n",
        "    Returns:\n",
        "        np.ndarray: matrix sum.\n",
        "    \"\"\"\n",
        "    return x + y\n",
        "\n",
        "\n",
        "def scalar_multiplication(x: np.ndarray, a: float) -> np.ndarray:\n",
        "    \"\"\"Matrix multiplication by scalar.\n",
        "\n",
        "    Args:\n",
        "        x (np.ndarray): matrix.\n",
        "        a (float): scalar.\n",
        "\n",
        "    Returns:\n",
        "        np.ndarray: multiplied matrix.\n",
        "    \"\"\"\n",
        "    return a * x\n",
        "\n",
        "\n",
        "def dot_product(x: np.ndarray, y: np.ndarray) -> np.ndarray:\n",
        "    \"\"\"Matrices dot product.\n",
        "\n",
        "    Args:\n",
        "        x (np.ndarray): 1st matrix.\n",
        "        y (np.ndarray): 2nd matrix or vector.\n",
        "\n",
        "    Returns:\n",
        "        np.ndarray: dot product.\n",
        "    \"\"\"\n",
        "    return x @ y\n",
        "\n",
        "\n",
        "def identity_matrix(dim: int) -> np.ndarray:\n",
        "    \"\"\"Create identity matrix with dimension `dim`.\n",
        "\n",
        "    Args:\n",
        "        dim (int): matrix dimension.\n",
        "\n",
        "    Returns:\n",
        "        np.ndarray: identity matrix.\n",
        "    \"\"\"\n",
        "    return np.eye(dim)\n",
        "\n",
        "\n",
        "def matrix_inverse(x: np.ndarray) -> np.ndarray:\n",
        "    \"\"\"Compute inverse matrix.\n",
        "\n",
        "    Args:\n",
        "        x (np.ndarray): matrix.\n",
        "\n",
        "    Returns:\n",
        "        np.ndarray: inverse matrix.\n",
        "    \"\"\"\n",
        "    return np.linalg.inv(x)\n",
        "\n",
        "\n",
        "def matrix_transpose(x: np.ndarray) -> np.ndarray:\n",
        "    \"\"\"Compute transpose matrix.\n",
        "\n",
        "    Args:\n",
        "        x (np.ndarray): matrix.\n",
        "\n",
        "    Returns:\n",
        "        np.ndarray: transosed matrix.\n",
        "    \"\"\"\n",
        "    return x.T\n",
        "\n",
        "\n",
        "def hadamard_product(x: np.ndarray, y: np.ndarray) -> np.ndarray:\n",
        "    \"\"\"Compute hadamard product.\n",
        "\n",
        "    Args:\n",
        "        x (np.ndarray): 1th matrix.\n",
        "        y (np.ndarray): 2nd matrix.\n",
        "\n",
        "    Returns:\n",
        "        np.ndarray: hadamard produc\n",
        "    \"\"\"\n",
        "    return x * y\n",
        "\n",
        "\n",
        "def basis(x: np.ndarray) -> tuple[int]:\n",
        "    \"\"\"Compute matrix basis.\n",
        "\n",
        "    Args:\n",
        "        x (np.ndarray): matrix.\n",
        "\n",
        "    Returns:\n",
        "        tuple[int]: indexes of basis columns.\n",
        "    \"\"\"\n",
        "    Q, R = np.linalg.qr(x)\n",
        "\n",
        "    return tuple(i for i, r in enumerate(np.abs(np.diag(R)) > 1e-10))\n",
        "\n",
        "\n",
        "def norm(x: np.ndarray, order: int | float | str) -> float:\n",
        "    \"\"\"Matrix norm: Frobenius, Spectral or Max.\n",
        "\n",
        "    Args:\n",
        "        x (np.ndarray): vector\n",
        "        order (int | float): norm's order: 'fro', 2 or inf.\n",
        "\n",
        "    Returns:\n",
        "        float: vector norm\n",
        "    \"\"\"\n",
        "    return float(np.linalg.norm(x, order))\n"
      ],
      "metadata": {
        "id": "X4eSSzE6_paN"
      },
      "execution_count": 168,
      "outputs": []
    },
    {
      "cell_type": "code",
      "source": [
        "import numpy as np\n",
        "\n",
        "# --- Тестові дані ---\n",
        "A = get_matrix(3, 3)\n",
        "B = get_matrix(3, 3)\n",
        "v = get_matrix(3, 1)\n",
        "scalar = 2.5\n",
        "\n",
        "print(\"Матриця A:\\n\", A)\n",
        "print(\"Матриця B:\\n\", B)\n",
        "print(\"Вектор v:\\n\", v)\n",
        "print(\"Скаляр:\", scalar)\n",
        "\n",
        "# --- Додавання ---\n",
        "C = add(A, B)\n",
        "print(\"\\nA + B =\\n\", C)\n",
        "\n",
        "# --- Множення на скаляр ---\n",
        "D = scalar_multiplication(A, scalar)\n",
        "print(\"\\nA * scalar =\\n\", D)\n",
        "\n",
        "# --- Добуток матриць ---\n",
        "E = dot_product(A, B)\n",
        "print(\"\\nA @ B =\\n\", E)\n",
        "\n",
        "# --- Транспонування ---\n",
        "At = matrix_transpose(A)\n",
        "print(\"\\nA^T =\\n\", At)\n",
        "\n",
        "# --- Ідентична матриця ---\n",
        "I = identity_matrix(3)\n",
        "print(\"\\nIdentity matrix:\\n\", I)\n",
        "\n",
        "# --- Інверсія (якщо матриця невироджена) ---\n",
        "try:\n",
        "    A_inv = matrix_inverse(A)\n",
        "    print(\"\\nInverse of A:\\n\", A_inv)\n",
        "    # Перевірка: A @ A_inv ≈ I\n",
        "    print(\"\\nA @ A_inv ≈ I:\\n\", dot_product(A, A_inv))\n",
        "except np.linalg.LinAlgError:\n",
        "    print(\"\\nМатриця A невироджена, інверсія неможлива.\")\n",
        "\n",
        "# --- Hadamard product ---\n",
        "H = hadamard_product(A, B)\n",
        "print(\"\\nHadamard product A * B:\\n\", H)\n",
        "\n",
        "# --- Базис ---\n",
        "basis_indices = basis(A)\n",
        "print(\"\\nІндекси базисних стовпців A:\", basis_indices)\n",
        "\n",
        "# --- Норми ---\n",
        "print(\"\\nFrobenius norm of A:\", norm(A, 'fro'))\n",
        "print(\"Spectral norm of A:\", norm(A, 2))\n",
        "print(\"Infinity norm of A:\", norm(A, np.inf))\n",
        "print(\"2-norm of vector v:\", norm(v, 2))\n"
      ],
      "metadata": {
        "colab": {
          "base_uri": "https://localhost:8080/"
        },
        "id": "qVgvmzu3v9j1",
        "outputId": "37198eef-0152-45ee-bd25-6e183b62e704"
      },
      "execution_count": 169,
      "outputs": [
        {
          "output_type": "stream",
          "name": "stdout",
          "text": [
            "Матриця A:\n",
            " [[0.4937956  0.52273283 0.42754102]\n",
            " [0.02541913 0.10789143 0.03142919]\n",
            " [0.63641041 0.31435598 0.50857069]]\n",
            "Матриця B:\n",
            " [[0.90756647 0.24929223 0.41038292]\n",
            " [0.75555114 0.22879817 0.07697991]\n",
            " [0.28975145 0.16122129 0.92969765]]\n",
            "Вектор v:\n",
            " [[0.80812038]\n",
            " [0.63340376]\n",
            " [0.87146059]]\n",
            "Скаляр: 2.5\n",
            "\n",
            "A + B =\n",
            " [[1.40136207 0.77202506 0.83792394]\n",
            " [0.78097027 0.33668959 0.1084091 ]\n",
            " [0.92616186 0.47557727 1.43826834]]\n",
            "\n",
            "A * scalar =\n",
            " [[1.23448899 1.30683207 1.06885255]\n",
            " [0.06354782 0.26972857 0.07857296]\n",
            " [1.59102603 0.78588995 1.27142673]]\n",
            "\n",
            "A @ B =\n",
            " [[0.96698434 0.31162843 0.64036909]\n",
            " [0.11369369 0.03608921 0.04795669]\n",
            " [0.96245587 0.31256866 0.75818804]]\n",
            "\n",
            "A^T =\n",
            " [[0.4937956  0.02541913 0.63641041]\n",
            " [0.52273283 0.10789143 0.31435598]\n",
            " [0.42754102 0.03142919 0.50857069]]\n",
            "\n",
            "Identity matrix:\n",
            " [[1. 0. 0.]\n",
            " [0. 1. 0.]\n",
            " [0. 0. 1.]]\n",
            "\n",
            "Inverse of A:\n",
            " [[-1738.49317142  5079.27350915  1147.6078366 ]\n",
            " [ -273.36597559   809.98444464   179.75478663]\n",
            " [ 2344.47128859 -6856.71836426 -1545.22582841]]\n",
            "\n",
            "A @ A_inv ≈ I:\n",
            " [[ 1.00000000e+00 -1.33075286e-14  8.39106259e-14]\n",
            " [-7.59518919e-15  1.00000000e+00  9.48706049e-15]\n",
            " [ 1.11484375e-13 -1.87830150e-13  1.00000000e+00]]\n",
            "\n",
            "Hadamard product A * B:\n",
            " [[0.44815233 0.13031323 0.17545553]\n",
            " [0.01920545 0.02468536 0.00241942]\n",
            " [0.18440084 0.05068088 0.47281698]]\n",
            "\n",
            "Індекси базисних стовпців A: (0, 1, 2)\n",
            "\n",
            "Frobenius norm of A: 1.2147557583040252\n",
            "Spectral norm of A: 1.1981673146191028\n",
            "Infinity norm of A: 1.4593370835048098\n",
            "2-norm of vector v: 1.3467376978755656\n"
          ]
        }
      ]
    },
    {
      "cell_type": "code",
      "source": [
        "import numpy as np\n",
        "\n",
        "# --- 1. Генерація матриць ---\n",
        "A = get_matrix(3, 3)\n",
        "B = get_matrix(3, 3)\n",
        "print(\"Матриця A:\\n\", A)\n",
        "print(\"Матриця B:\\n\", B)\n",
        "\n",
        "# --- 2. Додавання ---\n",
        "C = add(A, B)\n",
        "assert np.allclose(C, A + B), \"Помилка в add\"\n",
        "print(\"\\nA + B:\\n\", C)\n",
        "\n",
        "# --- 3. Множення на скаляр ---\n",
        "scalar = 2.5\n",
        "D = scalar_multiplication(A, scalar)\n",
        "assert np.allclose(D, A * scalar), \"Помилка в scalar_multiplication\"\n",
        "print(\"\\nA * scalar:\\n\", D)\n",
        "\n",
        "# --- 4. Добуток матриць ---\n",
        "E = dot_product(A, B)\n",
        "assert np.allclose(E, A @ B), \"Помилка в dot_product\"\n",
        "print(\"\\nA @ B:\\n\", E)\n",
        "\n",
        "# --- 5. Транспонування ---\n",
        "At = matrix_transpose(A)\n",
        "assert np.allclose(At, A.T), \"Помилка в matrix_transpose\"\n",
        "print(\"\\nA^T:\\n\", At)\n",
        "\n",
        "# --- 6. Ідентична матриця ---\n",
        "I = identity_matrix(3)\n",
        "assert np.allclose(I, np.eye(3)), \"Помилка в identity_matrix\"\n",
        "print(\"\\nIdentity matrix:\\n\", I)\n",
        "\n",
        "# --- 7. Інверсія матриці ---\n",
        "# Перевіримо лише якщо матриця невироджена\n",
        "try:\n",
        "    A_inv = matrix_inverse(A)\n",
        "    assert np.allclose(dot_product(A, A_inv), I), \"Помилка в matrix_inverse\"\n",
        "    print(\"\\nInverse of A:\\n\", A_inv)\n",
        "except np.linalg.LinAlgError:\n",
        "    print(\"\\nМатриця A вироджена, інверсія неможлива\")\n",
        "\n",
        "# --- 8. Hadamard product ---\n",
        "H = hadamard_product(A, B)\n",
        "assert np.allclose(H, A * B), \"Помилка в hadamard_product\"\n",
        "print(\"\\nHadamard product A * B:\\n\", H)\n",
        "\n",
        "# --- 9. Базис ---\n",
        "basis_indices = basis(A)\n",
        "print(\"\\nІндекси базисних стовпців A:\", basis_indices)\n",
        "\n",
        "# --- 10. Норми ---\n",
        "print(\"\\nFrobenius norm of A:\", norm(A, 'fro'))\n",
        "print(\"Spectral norm of A:\", norm(A, 2))\n",
        "print(\"Infinity norm of A:\", norm(A, np.inf))\n",
        "print(\"1-norm of A:\", norm(A, 1))\n",
        "\n",
        "print(\"\\n✅ Усі перевірки виконані!\")\n"
      ],
      "metadata": {
        "colab": {
          "base_uri": "https://localhost:8080/"
        },
        "id": "Ctpkz8Ahv-OY",
        "outputId": "c3214a92-31ca-47d2-ba78-4d95378d6744"
      },
      "execution_count": 170,
      "outputs": [
        {
          "output_type": "stream",
          "name": "stdout",
          "text": [
            "Матриця A:\n",
            " [[0.80367208 0.18657006 0.892559  ]\n",
            " [0.53934224 0.80744016 0.8960913 ]\n",
            " [0.31800347 0.11005192 0.22793516]]\n",
            "Матриця B:\n",
            " [[0.42710779 0.81801477 0.86073058]\n",
            " [0.00695213 0.5107473  0.417411  ]\n",
            " [0.22210781 0.11986537 0.33761517]]\n",
            "\n",
            "A + B:\n",
            " [[1.23077987 1.00458482 1.75328958]\n",
            " [0.54629437 1.31818746 1.3135023 ]\n",
            " [0.54011129 0.22991729 0.56555033]]\n",
            "\n",
            "A * scalar:\n",
            " [[2.00918019 0.46642515 2.2313975 ]\n",
            " [1.3483556  2.01860039 2.24022825]\n",
            " [0.79500869 0.27512981 0.56983791]]\n",
            "\n",
            "A @ B:\n",
            " [[0.54279599 0.85969269 1.07096299]\n",
            " [0.43499958 0.96099811 1.10379679]\n",
            " [0.18721304 0.34366179 0.39660657]]\n",
            "\n",
            "A^T:\n",
            " [[0.80367208 0.53934224 0.31800347]\n",
            " [0.18657006 0.80744016 0.11005192]\n",
            " [0.892559   0.8960913  0.22793516]]\n",
            "\n",
            "Identity matrix:\n",
            " [[1. 0. 0.]\n",
            " [0. 1. 0.]\n",
            " [0. 0. 1.]]\n",
            "\n",
            "Inverse of A:\n",
            " [[-1.10488142 -0.72042503  7.15878341]\n",
            " [-2.09556234  1.30178602  3.08813214]\n",
            " [ 2.55325591  0.37657027 -7.09137136]]\n",
            "\n",
            "Hadamard product A * B:\n",
            " [[0.3432546  0.15261706 0.76825283]\n",
            " [0.00374958 0.41239788 0.37403837]\n",
            " [0.07063106 0.01319141 0.07695437]]\n",
            "\n",
            "Індекси базисних стовпців A: (0, 1, 2)\n",
            "\n",
            "Frobenius norm of A: 1.840755309713786\n",
            "Spectral norm of A: 1.7750357715134744\n",
            "Infinity norm of A: 2.2428736970032066\n",
            "1-norm of A: 2.0165854609554126\n",
            "\n",
            "✅ Усі перевірки виконані!\n"
          ]
        }
      ]
    },
    {
      "cell_type": "code",
      "source": [
        "import numpy as np\n",
        "\n",
        "np.random.seed(42)  # для відтворюваності\n",
        "\n",
        "def test_matrix_functions(num_tests=5, size=(3,3)):\n",
        "    for i in range(num_tests):\n",
        "        print(f\"\\n--- Тест {i+1} ---\")\n",
        "        n, m = size\n",
        "        A = get_matrix(n, m)\n",
        "        B = get_matrix(n, m)\n",
        "        scalar = np.random.rand() * 10\n",
        "\n",
        "        # 1. Додавання\n",
        "        C = add(A, B)\n",
        "        assert np.allclose(C, A + B), \"add помилка\"\n",
        "\n",
        "        # 2. Множення на скаляр\n",
        "        D = scalar_multiplication(A, scalar)\n",
        "        assert np.allclose(D, A * scalar), \"scalar_multiplication помилка\"\n",
        "\n",
        "        # 3. Добуток матриць\n",
        "        if n == m:  # dot product тільки для квадратних матриць\n",
        "            E = dot_product(A, B)\n",
        "            assert np.allclose(E, A @ B), \"dot_product помилка\"\n",
        "\n",
        "        # 4. Транспонування\n",
        "        At = matrix_transpose(A)\n",
        "        assert np.allclose(At, A.T), \"matrix_transpose помилка\"\n",
        "\n",
        "        # 5. Ідентична матриця\n",
        "        I = identity_matrix(n)\n",
        "        assert np.allclose(I, np.eye(n)), \"identity_matrix помилка\"\n",
        "\n",
        "        # 6. Інверсія (тільки якщо матриця невироджена)\n",
        "        try:\n",
        "            A_inv = matrix_inverse(A)\n",
        "            assert np.allclose(dot_product(A, A_inv), I), \"matrix_inverse помилка\"\n",
        "        except np.linalg.LinAlgError:\n",
        "            print(\"Матриця вироджена, інверсія пропущена\")\n",
        "\n",
        "        # 7. Hadamard product\n",
        "        H = hadamard_product(A, B)\n",
        "        assert np.allclose(H, A * B), \"hadamard_product помилка\"\n",
        "\n",
        "        # 8. Базис\n",
        "        basis_indices = basis(A)\n",
        "        assert all(0 <= idx < m for idx in basis_indices), \"basis помилка\"\n",
        "\n",
        "        # 9. Норми\n",
        "        fro = norm(A, 'fro')\n",
        "        spectral = norm(A, 2)\n",
        "        inf_norm = norm(A, np.inf)\n",
        "        one_norm = norm(A, 1)\n",
        "        assert fro >= 0 and spectral >= 0 and inf_norm >= 0 and one_norm >= 0, \"norm помилка\"\n",
        "\n",
        "        print(f\"✅ Тест {i+1} пройдено успішно!\")\n",
        "\n",
        "# Запускаємо перевірку\n",
        "test_matrix_functions(num_tests=5, size=(3,3))\n"
      ],
      "metadata": {
        "colab": {
          "base_uri": "https://localhost:8080/"
        },
        "id": "SHN0BaGqw4d_",
        "outputId": "13584f59-20ca-4fe9-9420-8644af79a50c"
      },
      "execution_count": 171,
      "outputs": [
        {
          "output_type": "stream",
          "name": "stdout",
          "text": [
            "\n",
            "--- Тест 1 ---\n",
            "✅ Тест 1 пройдено успішно!\n",
            "\n",
            "--- Тест 2 ---\n",
            "✅ Тест 2 пройдено успішно!\n",
            "\n",
            "--- Тест 3 ---\n",
            "✅ Тест 3 пройдено успішно!\n",
            "\n",
            "--- Тест 4 ---\n",
            "✅ Тест 4 пройдено успішно!\n",
            "\n",
            "--- Тест 5 ---\n",
            "✅ Тест 5 пройдено успішно!\n"
          ]
        }
      ]
    },
    {
      "cell_type": "code",
      "source": [],
      "metadata": {
        "id": "QBz7yhEG_r5m"
      },
      "execution_count": null,
      "outputs": []
    }
  ]
}