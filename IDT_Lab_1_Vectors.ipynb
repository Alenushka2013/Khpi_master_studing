{
  "nbformat": 4,
  "nbformat_minor": 0,
  "metadata": {
    "colab": {
      "provenance": [],
      "authorship_tag": "ABX9TyMvSDnM63hEx82YrgoerDB4",
      "include_colab_link": true
    },
    "kernelspec": {
      "name": "python3",
      "display_name": "Python 3"
    },
    "language_info": {
      "name": "python"
    }
  },
  "cells": [
    {
      "cell_type": "markdown",
      "metadata": {
        "id": "view-in-github",
        "colab_type": "text"
      },
      "source": [
        "<a href=\"https://colab.research.google.com/github/Alenushka2013/Khpi_master_studing/blob/main/IDT_Lab_1_Vectors.ipynb\" target=\"_parent\"><img src=\"https://colab.research.google.com/assets/colab-badge.svg\" alt=\"Open In Colab\"/></a>"
      ]
    },
    {
      "cell_type": "code",
      "source": [
        "from typing import Sequence\n",
        "\n",
        "import numpy as np\n",
        "from scipy import sparse\n",
        "\n",
        "\n",
        "def get_vector(dim: int) -> np.ndarray:\n",
        "    \"\"\"Create random column vector with dimension dim.\n",
        "\n",
        "    Args:\n",
        "        dim (int): vector dimension.\n",
        "\n",
        "    Returns:\n",
        "        np.ndarray: column vector.\n",
        "    \"\"\"\n",
        "    return np.random.rand(dim, 1)"
      ],
      "metadata": {
        "id": "siRS3m8jLcnL"
      },
      "execution_count": 4,
      "outputs": []
    },
    {
      "cell_type": "code",
      "source": [
        "get_vector(3)"
      ],
      "metadata": {
        "colab": {
          "base_uri": "https://localhost:8080/"
        },
        "id": "iif2NKOdLrQy",
        "outputId": "b4032bd1-ce1d-4ee4-e5db-59d3b0b2dadd"
      },
      "execution_count": 5,
      "outputs": [
        {
          "output_type": "execute_result",
          "data": {
            "text/plain": [
              "array([[0.87691007],\n",
              "       [0.59245884],\n",
              "       [0.1749049 ]])"
            ]
          },
          "metadata": {},
          "execution_count": 5
        }
      ]
    },
    {
      "cell_type": "code",
      "source": [
        "def get_sparse_vector(dim: int, density: float = 0.5) -> sparse.coo_matrix:\n",
        "    \"\"\"Create random sparse column vector with dimension dim.\n",
        "\n",
        "    Args:\n",
        "        dim (int): vector dimension.\n",
        "\n",
        "    Returns:\n",
        "        sparse.coo_matrix: sparse column vector.\n",
        "    \"\"\"\n",
        "    data = np.random.rand(dim)\n",
        "    mask = np.random.rand(dim) < density\n",
        "    data[mask] = 0\n",
        "    row = np.arange(dim)\n",
        "    col = np.zeros(dim)\n",
        "    return sparse.coo_matrix((data, (row, col)), shape=(dim, 1))"
      ],
      "metadata": {
        "id": "NcQwTwa9FuQP"
      },
      "execution_count": 79,
      "outputs": []
    },
    {
      "cell_type": "code",
      "source": [
        "get_sparse_vector(20).toarray()"
      ],
      "metadata": {
        "colab": {
          "base_uri": "https://localhost:8080/"
        },
        "id": "BJr80Zm3MKCG",
        "outputId": "c5fce5b1-7692-41aa-dc63-b2c7fe109503"
      },
      "execution_count": 84,
      "outputs": [
        {
          "output_type": "execute_result",
          "data": {
            "text/plain": [
              "array([[0.        ],\n",
              "       [0.        ],\n",
              "       [0.75782335],\n",
              "       [0.        ],\n",
              "       [0.71432153],\n",
              "       [0.        ],\n",
              "       [0.7556875 ],\n",
              "       [0.94627835],\n",
              "       [0.04073842],\n",
              "       [0.        ],\n",
              "       [0.        ],\n",
              "       [0.        ],\n",
              "       [0.03794454],\n",
              "       [0.        ],\n",
              "       [0.49381247],\n",
              "       [0.        ],\n",
              "       [0.56515622],\n",
              "       [0.        ],\n",
              "       [0.11769409],\n",
              "       [0.93421617]])"
            ]
          },
          "metadata": {},
          "execution_count": 84
        }
      ]
    },
    {
      "cell_type": "code",
      "source": [
        "def add(x: np.ndarray, y: np.ndarray) -> np.ndarray:\n",
        "    \"\"\"Vector addition.\n",
        "\n",
        "    Args:\n",
        "        x (np.ndarray): 1th vector.\n",
        "        y (np.ndarray): 2nd vector.\n",
        "\n",
        "    Returns:\n",
        "        np.ndarray: vector sum.\n",
        "    \"\"\"\n",
        "    return x + y\n"
      ],
      "metadata": {
        "id": "YV2IChHgFvhU"
      },
      "execution_count": 83,
      "outputs": []
    },
    {
      "cell_type": "code",
      "source": [
        "add(np.array([1, 2, 3]), np.array([5, 6, 7]))"
      ],
      "metadata": {
        "colab": {
          "base_uri": "https://localhost:8080/"
        },
        "id": "xNt4u826McgF",
        "outputId": "47fc0c16-f10d-4ab1-9823-5213c7342349"
      },
      "execution_count": 12,
      "outputs": [
        {
          "output_type": "execute_result",
          "data": {
            "text/plain": [
              "array([ 6,  8, 10])"
            ]
          },
          "metadata": {},
          "execution_count": 12
        }
      ]
    },
    {
      "cell_type": "code",
      "source": [
        "def scalar_multiplication(x: np.ndarray, a: float) -> np.ndarray:\n",
        "    \"\"\"Vector multiplication by scalar.\n",
        "\n",
        "    Args:\n",
        "        x (np.ndarray): vector.\n",
        "        a (float): scalar.\n",
        "\n",
        "    Returns:\n",
        "        np.ndarray: multiplied vector.\n",
        "    \"\"\"\n",
        "    return a * x"
      ],
      "metadata": {
        "id": "pqtu7uDqFwll"
      },
      "execution_count": 13,
      "outputs": []
    },
    {
      "cell_type": "code",
      "source": [
        "#scalar_multiplication(np.ndarray([1, 2, 3]), 5)\n",
        "scalar_multiplication(np.array([1,2,3]), 2)"
      ],
      "metadata": {
        "colab": {
          "base_uri": "https://localhost:8080/"
        },
        "id": "UgdsKJ17M2vr",
        "outputId": "bd348b4a-4721-426b-81e6-8b8bf6aadf6f"
      },
      "execution_count": 15,
      "outputs": [
        {
          "output_type": "execute_result",
          "data": {
            "text/plain": [
              "array([2, 4, 6])"
            ]
          },
          "metadata": {},
          "execution_count": 15
        }
      ]
    },
    {
      "cell_type": "code",
      "source": [
        "scalar_multiplication(np.ndarray([1, 2, 3]), 5)"
      ],
      "metadata": {
        "colab": {
          "base_uri": "https://localhost:8080/"
        },
        "id": "K-eIQ5WuNhEk",
        "outputId": "83b96470-3783-44ea-af6f-29a58b9f35d9"
      },
      "execution_count": 16,
      "outputs": [
        {
          "output_type": "execute_result",
          "data": {
            "text/plain": [
              "array([[[7.86740819e-314, 0.00000000e+000, 0.00000000e+000],\n",
              "        [0.00000000e+000, 0.00000000e+000, 0.00000000e+000]]])"
            ]
          },
          "metadata": {},
          "execution_count": 16
        }
      ]
    },
    {
      "cell_type": "code",
      "source": [
        "def linear_combination(vectors: Sequence[np.ndarray], coeffs: Sequence[float]) -> np.ndarray:##\n",
        "    \"\"\"Linear combination of vectors.\n",
        "\n",
        "    Args:\n",
        "        vectors (Sequence[np.ndarray]): list of vectors of len N.\n",
        "        coeffs (Sequence[float]): list of coefficients of len N.\n",
        "\n",
        "    Returns:\n",
        "        np.ndarray: linear combination of vectors.\n",
        "    \"\"\"\n",
        "    if len(vectors) != len(coeffs):\n",
        "      raise ValueError(\"The number of vectors does not match the number of coefficients.\")\n",
        "\n",
        "    result = np.zeros_like(vectors[0])\n",
        "    for v, c in zip(vectors, coeffs):\n",
        "        result += c * v\n",
        "    return result\n"
      ],
      "metadata": {
        "id": "XgNVtK3uFyLN"
      },
      "execution_count": 19,
      "outputs": []
    },
    {
      "cell_type": "code",
      "source": [
        "linear_combination([np.array([1,0]), np.array([0,1])], [2,3])"
      ],
      "metadata": {
        "colab": {
          "base_uri": "https://localhost:8080/"
        },
        "id": "t0RVqaGpOii8",
        "outputId": "1cd3e2f1-67b8-4f0c-9d6e-ff02ad7fbe2e"
      },
      "execution_count": 20,
      "outputs": [
        {
          "output_type": "execute_result",
          "data": {
            "text/plain": [
              "array([2, 3])"
            ]
          },
          "metadata": {},
          "execution_count": 20
        }
      ]
    },
    {
      "cell_type": "code",
      "source": [
        "def dot_product(x: np.ndarray, y: np.ndarray) -> float:\n",
        "    \"\"\"Vectors dot product.\n",
        "\n",
        "    Args:\n",
        "        x (np.ndarray): 1th vector.\n",
        "        y (np.ndarray): 2nd vector.\n",
        "\n",
        "    Returns:\n",
        "        float: dot product.\n",
        "    \"\"\"\n",
        "    return float(np.dot(x, y))"
      ],
      "metadata": {
        "id": "0Vn6xkyXFzWU"
      },
      "execution_count": 89,
      "outputs": []
    },
    {
      "cell_type": "code",
      "source": [
        "dot_product(np.array([1,2,3]), np.array([4,5,6]))"
      ],
      "metadata": {
        "colab": {
          "base_uri": "https://localhost:8080/"
        },
        "id": "5NW5br3FO7HE",
        "outputId": "462a882f-edec-4030-ee08-7b4736b2edca"
      },
      "execution_count": 92,
      "outputs": [
        {
          "output_type": "execute_result",
          "data": {
            "text/plain": [
              "32.0"
            ]
          },
          "metadata": {},
          "execution_count": 92
        }
      ]
    },
    {
      "cell_type": "code",
      "source": [
        "def norm(x: np.ndarray, order: int | float) -> float:\n",
        "    \"\"\"Vector norm: Manhattan, Euclidean or Max.\n",
        "\n",
        "    Args:\n",
        "        x (np.ndarray): vector\n",
        "        order (int | float): norm's order: 1, 2 or inf.\n",
        "\n",
        "    Returns:\n",
        "        float: vector norm\n",
        "    \"\"\"\n",
        "    #x = np.ravel(x)\n",
        "\n",
        "    if order == 1:\n",
        "        #  Manhattan: |x1| + |x2| + ... + |xn|\n",
        "        return float(np.sum(np.abs(x)))\n",
        "\n",
        "    elif order == 2:\n",
        "        # Euclidean: sqrt(x1² + x2² + ... + xn²)\n",
        "        return float(np.sqrt(np.sum(x ** 2)))\n",
        "\n",
        "    elif order == np.inf:\n",
        "        # Max: max(|x1|, |x2|, ..., |xn|)\n",
        "        return float(np.max(np.abs(x)))\n",
        "\n",
        "    else:\n",
        "        raise ValueError(\"Only norms of order 1, 2, or np.inf are supported\")"
      ],
      "metadata": {
        "id": "f6tiCQqWF0Rd"
      },
      "execution_count": 98,
      "outputs": []
    },
    {
      "cell_type": "code",
      "source": [
        "norm(np.array([3,4]), 1)"
      ],
      "metadata": {
        "colab": {
          "base_uri": "https://localhost:8080/"
        },
        "id": "Oy3IDYCGPHCC",
        "outputId": "03d7ce4c-1cc8-4b6b-92c9-069339ee7dcc"
      },
      "execution_count": 101,
      "outputs": [
        {
          "output_type": "execute_result",
          "data": {
            "text/plain": [
              "7.0"
            ]
          },
          "metadata": {},
          "execution_count": 101
        }
      ]
    },
    {
      "cell_type": "code",
      "source": [
        "def distance(x: np.ndarray, y: np.ndarray) -> float: ##\n",
        "    \"\"\"L2 distance between vectors.\n",
        "\n",
        "    Args:\n",
        "        x (np.ndarray): 1th vector.\n",
        "        y (np.ndarray): 2nd vector.\n",
        "\n",
        "    Returns:\n",
        "        float: distance.\n",
        "    \"\"\"\n",
        "    return float(sum((x-y) ** 2)) ** 0.5\n"
      ],
      "metadata": {
        "id": "o8LGDv47F1J1"
      },
      "execution_count": 41,
      "outputs": []
    },
    {
      "cell_type": "code",
      "source": [
        "distance(np.array([1,2]), np.array([4,6]))"
      ],
      "metadata": {
        "colab": {
          "base_uri": "https://localhost:8080/"
        },
        "id": "v55uh26cSiK7",
        "outputId": "0fdc2f04-d1f5-449d-e663-089b9b767ef4"
      },
      "execution_count": 42,
      "outputs": [
        {
          "output_type": "execute_result",
          "data": {
            "text/plain": [
              "5.0"
            ]
          },
          "metadata": {},
          "execution_count": 42
        }
      ]
    },
    {
      "cell_type": "code",
      "source": [
        "def cos_between_vectors(x: np.ndarray, y: np.ndarray) -> float:\n",
        "    \"\"\"Cosine between vectors in deg.\n",
        "\n",
        "    Args:\n",
        "        x (np.ndarray): 1th vector.\n",
        "        y (np.ndarray): 2nd vector.\n",
        "\n",
        "\n",
        "    Returns:\n",
        "        np.ndarray: angle in deg.\n",
        "    \"\"\"\n",
        "    cos_theta = dot_product(x, y) / (norm(x, 2) * norm(y, 2))\n",
        "    angle_rad = np.arccos(cos_theta)\n",
        "    return float(np.degrees(angle_rad))"
      ],
      "metadata": {
        "id": "WVszYYTUF16s"
      },
      "execution_count": 45,
      "outputs": []
    },
    {
      "cell_type": "code",
      "source": [
        "cos_between_vectors(np.array([1,1]), np.array([0,1]))"
      ],
      "metadata": {
        "colab": {
          "base_uri": "https://localhost:8080/"
        },
        "id": "9MRfHWDOS5Bx",
        "outputId": "3376c4a8-3c27-4cb4-bb7a-d139743d95fa"
      },
      "execution_count": 46,
      "outputs": [
        {
          "output_type": "execute_result",
          "data": {
            "text/plain": [
              "45.00000000000001"
            ]
          },
          "metadata": {},
          "execution_count": 46
        }
      ]
    },
    {
      "cell_type": "code",
      "source": [
        "def is_orthogonal(x: np.ndarray, y: np.ndarray) -> bool:\n",
        "    \"\"\"Check is vectors orthogonal.\n",
        "\n",
        "    Args:\n",
        "        x (np.ndarray): 1th vector.\n",
        "        y (np.ndarray): 2nd vector.\n",
        "\n",
        "\n",
        "    Returns:\n",
        "        bool: are vectors orthogonal.\n",
        "    \"\"\"\n",
        "    return float(np.dot(x, y)) == 0"
      ],
      "metadata": {
        "id": "dlc41zr6F2vs"
      },
      "execution_count": 102,
      "outputs": []
    },
    {
      "cell_type": "code",
      "source": [
        "is_orthogonal(np.array([5,2]), np.array([2,-5]))"
      ],
      "metadata": {
        "colab": {
          "base_uri": "https://localhost:8080/"
        },
        "id": "zFZqwNQiPxb3",
        "outputId": "913a289b-5228-4deb-ec71-a011af8ef73a"
      },
      "execution_count": 103,
      "outputs": [
        {
          "output_type": "execute_result",
          "data": {
            "text/plain": [
              "True"
            ]
          },
          "metadata": {},
          "execution_count": 103
        }
      ]
    },
    {
      "cell_type": "code",
      "source": [
        "def solves_linear_systems(a: np.ndarray, b: np.ndarray) -> np.ndarray:\n",
        "    \"\"\"Solve system of linear equations.\n",
        "\n",
        "    Args:\n",
        "        a (np.ndarray): coefficient matrix.\n",
        "        b (np.ndarray): ordinate values.\n",
        "\n",
        "    Returns:\n",
        "        np.ndarray: sytems solution\n",
        "    \"\"\"\n",
        "    if a.shape[0] != a.shape[1]:\n",
        "        raise ValueError(\"Matrix 'a' must be square\")\n",
        "\n",
        "    if a.shape[0] != b.shape[0]:\n",
        "        raise ValueError(\"Matrix 'a' and vector 'b' dimensions do not match\")\n",
        "\n",
        "    det = np.linalg.det(a)\n",
        "    if np.isclose(det, 0.0):\n",
        "        raise ValueError(\"Matrix 'a' is singular — the system has no unique solution\")\n",
        "\n",
        "    a_inv = np.linalg.inv(a)\n",
        "    x = a_inv.dot(b)\n",
        "\n",
        "    return x"
      ],
      "metadata": {
        "id": "2GTIpoHkF3qr"
      },
      "execution_count": 56,
      "outputs": []
    },
    {
      "cell_type": "code",
      "source": [
        "A = np.array([[2, 1], [2, 3]])\n",
        "b = np.array([10, 15])\n",
        "x = solves_linear_systems(A, b)\n",
        "print(x)"
      ],
      "metadata": {
        "colab": {
          "base_uri": "https://localhost:8080/"
        },
        "id": "ykxg3v4aZeC3",
        "outputId": "0fe14a57-3efc-4d76-84fa-ee4cddebc68b"
      },
      "execution_count": 61,
      "outputs": [
        {
          "output_type": "stream",
          "name": "stdout",
          "text": [
            "[3.75 2.5 ]\n"
          ]
        }
      ]
    },
    {
      "cell_type": "code",
      "source": [
        "from typing import Sequence\n",
        "\n",
        "import numpy as np\n",
        "from scipy import sparse\n",
        "\n",
        "\n",
        "def get_vector(dim: int) -> np.ndarray:\n",
        "    \"\"\"Create random column vector with dimension dim.\n",
        "\n",
        "    Args:\n",
        "        dim (int): vector dimension.\n",
        "\n",
        "    Returns:\n",
        "        np.ndarray: column vector.\n",
        "    \"\"\"\n",
        "    return np.random.rand(dim, 1)\n",
        "\n",
        "\n",
        "def get_sparse_vector(dim: int, density: float = 0.5) -> sparse.coo_matrix:\n",
        "    \"\"\"Create random sparse column vector with dimension dim.\n",
        "\n",
        "    Args:\n",
        "        dim (int): vector dimension.\n",
        "\n",
        "    Returns:\n",
        "        sparse.coo_matrix: sparse column vector.\n",
        "    \"\"\"\n",
        "    data = np.random.rand(dim)\n",
        "    mask = np.random.rand(dim) < density\n",
        "    data[mask] = 0\n",
        "\n",
        "    row = np.arange(dim)\n",
        "    col = np.zeros(dim)\n",
        "\n",
        "    return sparse.coo_matrix((data, (row, col)), shape=(dim, 1))\n",
        "\n",
        "\n",
        "def add(x: np.ndarray, y: np.ndarray) -> np.ndarray:\n",
        "    \"\"\"Vector addition.\n",
        "\n",
        "    Args:\n",
        "        x (np.ndarray): 1th vector.\n",
        "        y (np.ndarray): 2nd vector.\n",
        "\n",
        "    Returns:\n",
        "        np.ndarray: vector sum.\n",
        "    \"\"\"\n",
        "    return x + y\n",
        "\n",
        "\n",
        "def scalar_multiplication(x: np.ndarray, a: float) -> np.ndarray:\n",
        "    \"\"\"Vector multiplication by scalar.\n",
        "\n",
        "    Args:\n",
        "        x (np.ndarray): vector.\n",
        "        a (float): scalar.\n",
        "\n",
        "    Returns:\n",
        "        np.ndarray: multiplied vector.\n",
        "    \"\"\"\n",
        "    return a * x\n",
        "\n",
        "\n",
        "def linear_combination(vectors: Sequence[np.ndarray], coeffs: Sequence[float]) -> np.ndarray:\n",
        "    \"\"\"Linear combination of vectors.\n",
        "\n",
        "    Args:\n",
        "        vectors (Sequence[np.ndarray]): list of vectors of len N.\n",
        "        coeffs (Sequence[float]): list of coefficients of len N.\n",
        "\n",
        "    Returns:\n",
        "        np.ndarray: linear combination of vectors.\n",
        "    \"\"\"\n",
        "    if len(vectors) != len(coeffs):\n",
        "      raise ValueError(\"The number of vectors does not match the number of coefficients.\")\n",
        "\n",
        "    result = np.zeros_like(vectors[0])\n",
        "    for v, c in zip(vectors, coeffs):\n",
        "        result += c * v\n",
        "\n",
        "    return result\n",
        "\n",
        "\n",
        "def dot_product(x: np.ndarray, y: np.ndarray) -> float:\n",
        "    \"\"\"Vectors dot product.\n",
        "\n",
        "    Args:\n",
        "        x (np.ndarray): 1th vector.\n",
        "        y (np.ndarray): 2nd vector.\n",
        "\n",
        "    Returns:\n",
        "        float: dot product.\n",
        "    \"\"\"\n",
        "    return float(np.dot(x, y))\n",
        "\n",
        "\n",
        "def norm(x: np.ndarray, order: int | float) -> float:\n",
        "    \"\"\"Vector norm: Manhattan, Euclidean or Max.\n",
        "\n",
        "    Args:\n",
        "        x (np.ndarray): vector\n",
        "        order (int | float): norm's order: 1, 2 or inf.\n",
        "\n",
        "    Returns:\n",
        "        float: vector norm\n",
        "    \"\"\"\n",
        "    if order == 1:\n",
        "        #  Manhattan: |x1| + |x2| + ... + |xn|\n",
        "        return float(np.sum(np.abs(x)))\n",
        "\n",
        "    elif order == 2:\n",
        "        # Euclidean: sqrt(x1² + x2² + ... + xn²)\n",
        "        return float(np.sqrt(np.sum(x ** 2)))\n",
        "\n",
        "    elif order == np.inf:\n",
        "        # Max: max(|x1|, |x2|, ..., |xn|)\n",
        "        return float(np.max(np.abs(x)))\n",
        "\n",
        "    else:\n",
        "        raise ValueError(\"Only norms of order 1, 2, or np.inf are supported\")\n",
        "\n",
        "\n",
        "def distance(x: np.ndarray, y: np.ndarray) -> float:\n",
        "    \"\"\"L2 distance between vectors.\n",
        "\n",
        "    Args:\n",
        "        x (np.ndarray): 1th vector.\n",
        "        y (np.ndarray): 2nd vector.\n",
        "\n",
        "    Returns:\n",
        "        float: distance.\n",
        "    \"\"\"\n",
        "    return float(sum((x-y) ** 2)) ** 0.5\n",
        "\n",
        "\n",
        "def cos_between_vectors(x: np.ndarray, y: np.ndarray) -> float:\n",
        "    \"\"\"Cosine between vectors in deg.\n",
        "\n",
        "    Args:\n",
        "        x (np.ndarray): 1th vector.\n",
        "        y (np.ndarray): 2nd vector.\n",
        "\n",
        "\n",
        "    Returns:\n",
        "        np.ndarray: angle in deg.\n",
        "    \"\"\"\n",
        "\n",
        "    cos_theta = dot_product(x, y) / (norm(x, 2) * norm(y, 2))\n",
        "    angle_rad = np.arccos(cos_theta)\n",
        "\n",
        "    return float(np.degrees(angle_rad))\n",
        "\n",
        "def is_orthogonal(x: np.ndarray, y: np.ndarray) -> bool:\n",
        "    \"\"\"Check is vectors orthogonal.\n",
        "\n",
        "    Args:\n",
        "        x (np.ndarray): 1th vector.\n",
        "        y (np.ndarray): 2nd vector.\n",
        "\n",
        "\n",
        "    Returns:\n",
        "        bool: are vectors orthogonal.\n",
        "    \"\"\"\n",
        "    return float(np.dot(x, y)) == 0\n",
        "\n",
        "\n",
        "def solves_linear_systems(a: np.ndarray, b: np.ndarray) -> np.ndarray:\n",
        "    \"\"\"Solve system of linear equations.\n",
        "\n",
        "    Args:\n",
        "        a (np.ndarray): coefficient matrix.\n",
        "        b (np.ndarray): ordinate values.\n",
        "\n",
        "    Returns:\n",
        "        np.ndarray: sytems solution\n",
        "    \"\"\"\n",
        "    if a.shape[0] != a.shape[1]:\n",
        "        raise ValueError(\"Matrix 'a' must be square\")\n",
        "\n",
        "    if a.shape[0] != b.shape[0]:\n",
        "        raise ValueError(\"Matrix 'a' and vector 'b' dimensions do not match\")\n",
        "\n",
        "    det = np.linalg.det(a)\n",
        "    if np.isclose(det, 0.0):\n",
        "        raise ValueError(\"Matrix 'a' is singular — the system has no unique solution\")\n",
        "\n",
        "    a_inv = np.linalg.inv(a)\n",
        "    x = a_inv.dot(b)\n",
        "\n",
        "    return x"
      ],
      "metadata": {
        "id": "O3lXBZste8am"
      },
      "execution_count": 104,
      "outputs": []
    },
    {
      "cell_type": "code",
      "source": [
        "import numpy as np\n",
        "from scipy import sparse\n",
        "\n",
        "# Припустимо, ти вже виконав комірку з усіма реалізованими функціями (get_vector тощо)\n",
        "# Тоді просто запускаєш цей блок:\n",
        "\n",
        "# === 1. Перевірка генерації векторів ===\n",
        "v = get_vector(5)\n",
        "assert v.shape == (5, 1), \"get_vector має повертати вектор-стовпець\"\n",
        "assert (v >= 0).all() and (v <= 1).all(), \"елементи мають бути у [0,1]\"\n",
        "\n",
        "sv = get_sparse_vector(5)\n",
        "assert sparse.issparse(sv), \"get_sparse_vector має повертати sparse матрицю\"\n",
        "assert sv.shape == (5, 1), \"sparse вектор має бути стовпцем\"\n",
        "\n",
        "# === 2. Перевірка базових операцій ===\n",
        "x = np.array([1, 2, 3])\n",
        "y = np.array([4, 5, 6])\n",
        "assert np.allclose(add(x, y), np.array([5, 7, 9]))\n",
        "assert np.allclose(scalar_multiplication(x, 2), np.array([2, 4, 6]))\n",
        "\n",
        "# === 3. Лінійна комбінація ===\n",
        "v1 = np.array([1, 0])\n",
        "v2 = np.array([0, 1])\n",
        "res = linear_combination([v1, v2], [2, 3])\n",
        "assert np.allclose(res, np.array([2, 3]))\n",
        "\n",
        "# === 4. Скалярний добуток і норми ===\n",
        "assert np.isclose(dot_product(x, y), 32)\n",
        "assert np.isclose(norm(np.array([3, 4]), 2), 5)\n",
        "assert np.isclose(norm(np.array([1, 2, 3]), 1), 6)\n",
        "assert np.isclose(norm(np.array([-1, 3, -2]), np.inf), 3)\n",
        "\n",
        "# === 5. Відстань ===\n",
        "assert np.isclose(distance(np.array([1, 2]), np.array([4, 6])), 5)\n",
        "\n",
        "# === 6. Кут між векторами ===\n",
        "angle = cos_between_vectors(np.array([1, 0]), np.array([0, 1]))\n",
        "assert np.isclose(angle, 90.0)\n",
        "\n",
        "angle2 = cos_between_vectors(np.array([1, 0]), np.array([1, 1]))\n",
        "assert np.isclose(angle2, 45.0)\n",
        "\n",
        "# === 7. Перевірка ортогональності ===\n",
        "assert is_orthogonal(np.array([1, 0]), np.array([0, 1]))\n",
        "assert not is_orthogonal(np.array([1, 1]), np.array([1, 0]))\n",
        "\n",
        "# === 8. Розв’язання системи лінійних рівнянь ===\n",
        "A = np.array([[2, 1], [1, 3]])\n",
        "b = np.array([10, 15])\n",
        "sol = solves_linear_systems(A, b)\n",
        "assert np.allclose(sol, np.array([3, 4]))\n",
        "\n",
        "print(\"✅ Усі перевірки пройдено успішно!\")"
      ],
      "metadata": {
        "colab": {
          "base_uri": "https://localhost:8080/"
        },
        "id": "e_A5Wdd2QmSC",
        "outputId": "7f82d153-9ba1-48fe-884c-db400d165417"
      },
      "execution_count": 105,
      "outputs": [
        {
          "output_type": "stream",
          "name": "stdout",
          "text": [
            "✅ Усі перевірки пройдено успішно!\n"
          ]
        }
      ]
    },
    {
      "cell_type": "code",
      "source": [
        "def run_tests():\n",
        "    print(\"Тест 1: get_vector ✅\")\n",
        "    get_vector(3)\n",
        "\n",
        "    print(\"Тест 2: add, scalar_multiplication ✅\")\n",
        "    assert np.allclose(add(np.array([1,2]), np.array([3,4])), np.array([4,6]))\n",
        "\n",
        "    print(\"Тест 3: solves_linear_systems ✅\")\n",
        "    A = np.array([[1,2],[3,4]])\n",
        "    b = np.array([5,11])\n",
        "    x = solves_linear_systems(A, b)\n",
        "    print(\"Розв’язок:\", x)\n",
        "\n",
        "    print(\"✅ Усі функції працюють коректно!\")\n",
        "\n",
        "run_tests()"
      ],
      "metadata": {
        "colab": {
          "base_uri": "https://localhost:8080/"
        },
        "id": "5vl-ytN_QmvK",
        "outputId": "b9f0c646-a71e-4739-c086-07706c91b203"
      },
      "execution_count": 106,
      "outputs": [
        {
          "output_type": "stream",
          "name": "stdout",
          "text": [
            "Тест 1: get_vector ✅\n",
            "Тест 2: add, scalar_multiplication ✅\n",
            "Тест 3: solves_linear_systems ✅\n",
            "Розв’язок: [1. 2.]\n",
            "✅ Усі функції працюють коректно!\n"
          ]
        }
      ]
    },
    {
      "cell_type": "code",
      "source": [],
      "metadata": {
        "id": "wGyMQmfLe9hD"
      },
      "execution_count": null,
      "outputs": []
    }
  ]
}